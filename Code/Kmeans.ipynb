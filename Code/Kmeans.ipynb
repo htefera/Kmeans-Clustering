{
 "cells": [
  {
   "cell_type": "code",
   "execution_count": 1,
   "metadata": {
    "collapsed": true
   },
   "outputs": [],
   "source": [
    "from sklearn import datasets\n",
    "import numpy as np\n",
    "import matplotlib.pyplot as plt\n",
    "import random\n",
    "random.seed(12345)"
   ]
  },
  {
   "cell_type": "code",
   "execution_count": 2,
   "metadata": {
    "collapsed": true
   },
   "outputs": [],
   "source": [
    "def load_data():\n",
    "    random.seed()\n",
    "    iris = datasets.load_iris()\n",
    "    return iris.data"
   ]
  },
  {
   "cell_type": "code",
   "execution_count": 3,
   "metadata": {
    "collapsed": true
   },
   "outputs": [],
   "source": [
    "def distance(x, y):\n",
    "    return np.sqrt(np.sum((x - y)**2))"
   ]
  },
  {
   "cell_type": "code",
   "execution_count": 4,
   "metadata": {
    "collapsed": true
   },
   "outputs": [],
   "source": [
    "def assign_labels(X, centers):\n",
    "    Dist=[[distance(x, c) for c in centers] for x in X]\n",
    "    labels= np.argmin(Dist, axis=1)\n",
    "    return labels"
   ]
  },
  {
   "cell_type": "code",
   "execution_count": 5,
   "metadata": {
    "collapsed": true
   },
   "outputs": [],
   "source": [
    "def calculate_centers(X, labels):\n",
    "    newcenter = np.array([np.mean(X[labels == c], axis=0) for c in range(len(X))])\n",
    "    return newcenter"
   ]
  },
  {
   "cell_type": "code",
   "execution_count": 6,
   "metadata": {
    "collapsed": true
   },
   "outputs": [],
   "source": [
    "def test_convergence(old_centers, new_centers):\n",
    "    iter = 100\n",
    "    return np.all(old_centers - new_centers )<iter if old_centers.shape[0] == new_centers.shape[0] else False "
   ]
  },
  {
   "cell_type": "code",
   "execution_count": 7,
   "metadata": {
    "collapsed": true
   },
   "outputs": [],
   "source": [
    "def evaluate_performance(X, labels, centers):\n",
    "    size=len(X)\n",
    "    return np.mean([distance(X[i], centers[labels[i]]) for i in range(size)])"
   ]
  },
  {
   "cell_type": "code",
   "execution_count": 8,
   "metadata": {
    "collapsed": true
   },
   "outputs": [],
   "source": [
    "def k_means(X, K):\n",
    "    old_centers = X[np.random.choice(X.shape[0], K)]\n",
    "    labels = assign_labels(X, old_centers)\n",
    "    new_centers = calculate_centers(X, labels)\n",
    "    while not test_convergence(new_centers, old_centers): \n",
    "        old_centers = X[np.random.choice(X.shape[0], K)]\n",
    "        labels = assign_labels(X, old_centers)\n",
    "        new_centers =old_centers\n",
    "    return new_centers, labels"
   ]
  },
  {
   "cell_type": "code",
   "execution_count": 9,
   "metadata": {
    "collapsed": true
   },
   "outputs": [],
   "source": [
    "def mse():\n",
    "    X = load_data()\n",
    "    error= []\n",
    "    clusters=range(2,10)\n",
    "    for k in clusters:\n",
    "        centers, labels = k_means(X, k)\n",
    "        error.append(evaluate_performance(X, labels, centers))\n",
    "    plt.plot(clusters,error)\n",
    "    plt.title(\"Mean Square Error Demonstartion:\")\n",
    "    plt.xlabel('Number of Clusters')\n",
    "    plt.ylabel('Error')\n",
    "    plt.show()"
   ]
  },
  {
   "cell_type": "code",
   "execution_count": 10,
   "metadata": {
    "collapsed": true
   },
   "outputs": [],
   "source": [
    "def elbow_method():\n",
    "    X = load_data()\n",
    "    cost=[]\n",
    "    clusters=range(2,10)\n",
    "    for k in clusters:\n",
    "        centers, labels = k_means(X, k)\n",
    "        cost.append(np.sqrt(np.sum((X[k] - centers[labels[k]])**2)))\n",
    "    plt.plot(clusters,cost)\n",
    "    plt.title('Elbow Method Demonstration')\n",
    "    plt.xlabel('Number of Clusters')\n",
    "    plt.ylabel('Cost')\n",
    "    plt.show()"
   ]
  },
  {
   "cell_type": "code",
   "execution_count": 11,
   "metadata": {},
   "outputs": [
    {
     "name": "stderr",
     "output_type": "stream",
     "text": [
      "C:\\Users\\Haftish\\Anaconda3\\lib\\site-packages\\numpy\\core\\fromnumeric.py:2909: RuntimeWarning: Mean of empty slice.\n",
      "  out=out, **kwargs)\n",
      "C:\\Users\\Haftish\\Anaconda3\\lib\\site-packages\\numpy\\core\\_methods.py:73: RuntimeWarning: invalid value encountered in true_divide\n",
      "  ret, rcount, out=ret, casting='unsafe', subok=False)\n"
     ]
    },
    {
     "data": {
      "text/plain": [
       "(array([[ 6.6,  2.9,  4.6,  1.3],\n",
       "        [ 5.8,  2.7,  4.1,  1. ],\n",
       "        [ 6. ,  3.4,  4.5,  1.6],\n",
       "        [ 5.3,  3.7,  1.5,  0.2]]),\n",
       " array([3, 3, 3, 3, 3, 3, 3, 3, 3, 3, 3, 3, 3, 3, 3, 3, 3, 3, 3, 3, 3, 3, 3,\n",
       "        3, 3, 3, 3, 3, 3, 3, 3, 3, 3, 3, 3, 3, 3, 3, 3, 3, 3, 3, 3, 3, 3, 3,\n",
       "        3, 3, 3, 3, 0, 0, 0, 1, 0, 1, 2, 1, 0, 1, 1, 2, 1, 0, 1, 0, 2, 1, 0,\n",
       "        1, 2, 1, 0, 0, 0, 0, 0, 0, 2, 1, 1, 1, 1, 0, 2, 2, 0, 0, 1, 1, 1, 2,\n",
       "        1, 1, 1, 1, 1, 0, 1, 1, 2, 2, 0, 0, 0, 0, 1, 0, 0, 0, 2, 0, 0, 2, 2,\n",
       "        2, 0, 0, 0, 0, 0, 2, 0, 0, 0, 0, 0, 2, 0, 0, 0, 0, 0, 0, 0, 0, 2, 0,\n",
       "        2, 0, 0, 0, 2, 0, 2, 0, 0, 0, 2, 2], dtype=int64))"
      ]
     },
     "execution_count": 11,
     "metadata": {},
     "output_type": "execute_result"
    }
   ],
   "source": [
    "X= load_data()\n",
    "k_means(X,4)"
   ]
  },
  {
   "cell_type": "code",
   "execution_count": 12,
   "metadata": {},
   "outputs": [
    {
     "name": "stderr",
     "output_type": "stream",
     "text": [
      "C:\\Users\\Haftish\\Anaconda3\\lib\\site-packages\\numpy\\core\\fromnumeric.py:2909: RuntimeWarning: Mean of empty slice.\n",
      "  out=out, **kwargs)\n",
      "C:\\Users\\Haftish\\Anaconda3\\lib\\site-packages\\numpy\\core\\_methods.py:73: RuntimeWarning: invalid value encountered in true_divide\n",
      "  ret, rcount, out=ret, casting='unsafe', subok=False)\n"
     ]
    },
    {
     "data": {
      "image/png": "[encoded data removed]",
      "text/plain": [
       "<matplotlib.figure.Figure at 0x235445430f0>"
      ]
     },
     "metadata": {},
     "output_type": "display_data"
    }
   ],
   "source": [
    "mse()"
   ]
  },
  {
   "cell_type": "code",
   "execution_count": 17,
   "metadata": {
    "scrolled": true
   },
   "outputs": [
    {
     "name": "stderr",
     "output_type": "stream",
     "text": [
      "C:\\Users\\Haftish\\Anaconda3\\lib\\site-packages\\numpy\\core\\fromnumeric.py:2909: RuntimeWarning: Mean of empty slice.\n",
      "  out=out, **kwargs)\n",
      "C:\\Users\\Haftish\\Anaconda3\\lib\\site-packages\\numpy\\core\\_methods.py:73: RuntimeWarning: invalid value encountered in true_divide\n",
      "  ret, rcount, out=ret, casting='unsafe', subok=False)\n"
     ]
    },
    {
     "data": {
      "image/png": "[encoded data removed]",
      "text/plain": [
       "<matplotlib.figure.Figure at 0x2354e364978>"
      ]
     },
     "metadata": {},
     "output_type": "display_data"
    }
   ],
   "source": [
    "elbow_method()"
   ]
  },
  {
   "cell_type": "code",
   "execution_count": null,
   "metadata": {
    "collapsed": true
   },
   "outputs": [],
   "source": []
  }
 ],
 "metadata": {
  "kernelspec": {
   "display_name": "Python [default]",
   "language": "python",
   "name": "python3"
  },
  "language_info": {
   "codemirror_mode": {
    "name": "ipython",
    "version": 3
   },
   "file_extension": ".py",
   "mimetype": "text/x-python",
   "name": "python",
   "nbconvert_exporter": "python",
   "pygments_lexer": "ipython3",
   "version": "3.6.2"
  }
 },
 "nbformat": 4,
 "nbformat_minor": 2
}
